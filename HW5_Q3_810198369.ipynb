{
  "nbformat": 4,
  "nbformat_minor": 0,
  "metadata": {
    "colab": {
      "provenance": []
    },
    "kernelspec": {
      "name": "python3",
      "display_name": "Python 3"
    },
    "language_info": {
      "name": "python"
    },
    "gpuClass": "standard"
  },
  "cells": [
    {
      "cell_type": "code",
      "execution_count": 4,
      "metadata": {
        "cellView": "form",
        "id": "TUhtWTwlcYhJ"
      },
      "outputs": [],
      "source": [
        "#@title Importing Packages\n",
        "import numpy as np\n",
        "import random\n",
        "import matplotlib.pyplot as plt\n",
        "import pandas as pd\n",
        "from sklearn.metrics import ConfusionMatrixDisplay"
      ]
    },
    {
      "cell_type": "code",
      "source": [
        "#@title Initialization\n",
        "DATA_WIDTH = 28\n",
        "DATA_HEIGHT = 28\n",
        "NUMBER_OF_TRAINING_EXAMPLES = 5000\n",
        "NUMBER_OF_VALIDATION_EXAMPLES = 1000\n",
        "\n",
        "ALL_TRAINING_IMAGES=[]\n",
        "ALL_TRAINING_LABELS=[]\n",
        "ALL_VALIDATION_IMAGES=[]\n",
        "ALL_VALIDATION_LABELS=[]"
      ],
      "metadata": {
        "id": "J5mJLyPJcpNN",
        "cellView": "form"
      },
      "execution_count": 2,
      "outputs": []
    },
    {
      "cell_type": "code",
      "source": [
        "#@title Functions\n",
        "def _pixel_to_value(character):\n",
        "    if(character == ' '):\n",
        "        return 0\n",
        "    elif(character == '#'):\n",
        "        return 1\n",
        "    elif(character == '+'):\n",
        "        return 2  \n",
        "    \n",
        "def _value_to_pixel(value):\n",
        "    if(value == 0):\n",
        "        return ' '\n",
        "    elif(value == 1):\n",
        "        return '#'\n",
        "    elif(value == 2):\n",
        "        return '+'\n",
        "\n",
        "def _load_data_file(filename, n, width, height):\n",
        "    fin = [l[:-1] for l in open(filename).readlines()]\n",
        "    fin.reverse()\n",
        "    items = []\n",
        "    for i in range(n):\n",
        "        data = []\n",
        "        for j in range(height):\n",
        "            row = map(_pixel_to_value, list(fin.pop()))\n",
        "            data.append(row)\n",
        "        items.append(data)\n",
        "    return items\n",
        "        \n",
        "def _load_label_file(filename, n):\n",
        "    fin = [l[:-1] for l in open(filename).readlines()]\n",
        "    labels = []\n",
        "    for i in range(n):\n",
        "        labels.append(int(fin[i]))\n",
        "    return labels\n",
        "\n",
        "def _load_all_data():\n",
        "    ALL_TRAINING_IMAGES = _load_data_file(\"trainingimages\",\n",
        "        NUMBER_OF_TRAINING_EXAMPLES, DATA_WIDTH, DATA_HEIGHT)\n",
        "    ALL_TRAINING_LABELS = _load_label_file(\"traininglabels\",\n",
        "        NUMBER_OF_TRAINING_EXAMPLES)\n",
        "\n",
        "    ALL_VALIDATION_IMAGES = _load_data_file(\"validationimages\",\n",
        "        NUMBER_OF_VALIDATION_EXAMPLES, DATA_WIDTH, DATA_HEIGHT)\n",
        "    ALL_VALIDATION_LABELS = _load_label_file(\"validationlabels\",\n",
        "        NUMBER_OF_VALIDATION_EXAMPLES)\n",
        "    \n",
        "    return ALL_TRAINING_IMAGES, ALL_TRAINING_LABELS, ALL_VALIDATION_IMAGES, ALL_VALIDATION_LABELS\n",
        "\n",
        "def _print_digit_image(data):\n",
        "    for row in range(len(data)):\n",
        "        print(''.join(map(_value_to_pixel, data[row])))\n",
        "\n",
        "def NormProb(mu, var, x):\n",
        "  return 1/np.sqrt(2*np.pi*var) * np.exp(-1/2 * (x - mu)**2/var)\n",
        "\n",
        "def Feature_Extraction(Data, DATA_WIDTH, DATA_HEIGHT):\n",
        "  sharp_list = np.zeros(DATA_HEIGHT)\n",
        "  plus_list = np.zeros(DATA_HEIGHT)\n",
        "  width_row_list = np.zeros(DATA_HEIGHT)\n",
        "  for row in range(DATA_HEIGHT):\n",
        "    data = ''.join(map(_value_to_pixel, Data[row]))\n",
        "    row_values = np.array(list(data))\n",
        "    if np.where(row_values != ' ')[0].any():\n",
        "      width_row_list[row] = np.max(np.where(row_values != ' ')) - np.min(np.where(row_values != ' '))\n",
        "    sharp_list[row] = sum(row_values == '#')\n",
        "    plus_list[row] = sum(row_values == '+')\n",
        "  down = np.max(np.where((sharp_list + plus_list) != 0))\n",
        "  up = np.min(np.where((sharp_list + plus_list) != 0))\n",
        "  Hight = down - up + 1 #\n",
        "  Width = np.max(width_row_list) + 1 #\n",
        "  thr = up + int((down - up)/2)\n",
        "  Sharp_num_upper = sum(sharp_list[:thr]) # \n",
        "  Plus_num_upper = sum(plus_list[:thr]) # \n",
        "  Sharp_num_below = sum(sharp_list[thr:]) # \n",
        "  Plus_num_below = sum(plus_list[thr:]) # \n",
        "  Row_limit = np.max(sharp_list + plus_list) / (DATA_WIDTH - np.max(sharp_list + plus_list)) #\n",
        "  return Hight, Width, Sharp_num_upper, Sharp_num_below, Plus_num_upper, Plus_num_below, Row_limit\n",
        "\n",
        "def Training(ALL_TRAINING_IMAGES, ALL_TRAINING_LABELS, DATA_WIDTH, DATA_HEIGHT):\n",
        "  # Extractiong the Features\n",
        "  Hight, Width, Sharp_num_upper, Sharp_num_below, Plus_num_upper, Plus_num_below, Row_limit = [], [], [], [], [], [], []\n",
        "  for train in ALL_TRAINING_IMAGES:\n",
        "    a, b, c, d, e, f, g = Feature_Extraction(train, DATA_WIDTH, DATA_HEIGHT)\n",
        "    Hight.append(a); Width.append(b)\n",
        "    Sharp_num_upper.append(c); Sharp_num_below.append(d)\n",
        "    Plus_num_upper.append(e); Plus_num_below.append(f)\n",
        "    Row_limit.append(g)\n",
        "  Hight = np.array(Hight); Width = np.array(Width)\n",
        "  Sharp_num_upper = np.array(Sharp_num_upper); Sharp_num_below = np.array(Sharp_num_upper)\n",
        "  Plus_num_upper = np.array(Plus_num_upper); Plus_num_below = np.array(Plus_num_below)\n",
        "  Row_limit = np.array(Row_limit)\n",
        "\n",
        "  # Calculation of Prior and Lokelihood Probabilities \n",
        "  Prior = []\n",
        "  x1_var, x2_var, x3_var, x4_var, x5_var, x6_var, x7_var = [], [], [], [], [], [], []\n",
        "  x1_mean, x2_mean, x3_mean, x4_mean, x5_mean, x6_mean, x7_mean = [], [], [], [], [], [], []\n",
        "  for i in range(10):\n",
        "    Label_ind = (np.array(ALL_TRAINING_LABELS) == i)\n",
        "    Prior.append(sum(Label_ind) / NUMBER_OF_TRAINING_EXAMPLES) \n",
        "    x1_var.append(np.var(Hight[Label_ind])); x1_mean.append(np.mean(Hight[Label_ind]))\n",
        "    x2_var.append(np.var(Width[Label_ind])); x2_mean.append(np.mean(Width[Label_ind]))\n",
        "    x3_var.append(np.var(Sharp_num_upper[Label_ind])); x3_mean.append(np.mean(Sharp_num_upper[Label_ind]))\n",
        "    x4_var.append(np.var(Sharp_num_below[Label_ind])); x4_mean.append(np.mean(Sharp_num_below[Label_ind]))\n",
        "    x5_var.append(np.var(Plus_num_upper[Label_ind])); x5_mean.append(np.mean(Plus_num_upper[Label_ind]))\n",
        "    x6_var.append(np.var(Plus_num_below[Label_ind])); x6_mean.append(np.mean(Plus_num_below[Label_ind]))\n",
        "    x7_var.append(np.var(Row_limit[Label_ind])); x7_mean.append(np.mean(Row_limit[Label_ind]))\n",
        "\n",
        "  return Prior, (x1_var, x2_var, x3_var, x4_var, x5_var, x6_var, x7_var), (x1_mean, x2_mean, x3_mean, x4_mean, x5_mean, x6_mean, x7_mean)\n",
        "\n",
        "def Classification(Test, DATA_WIDTH, DATA_HEIGHT, Prior, x1_var, x2_var, x3_var, x4_var, x5_var, x6_var, x7_var, x1_mean, x2_mean, x3_mean, x4_mean, x5_mean, x6_mean, x7_mean):\n",
        "  Posterior = []\n",
        "  x1, x2, x3, x4, x5, x6, x7 = Feature_Extraction(Test, DATA_WIDTH, DATA_HEIGHT)\n",
        "  for i in range(10):\n",
        "    p1 = NormProb(x1_mean[i], x1_var[i], x1)\n",
        "    p2 = NormProb(x2_mean[i], x2_var[i], x2)\n",
        "    p3 = NormProb(x3_mean[i], x3_var[i], x3)\n",
        "    p4 = NormProb(x4_mean[i], x4_var[i], x4)\n",
        "    p5 = NormProb(x5_mean[i], x5_var[i], x5)\n",
        "    p6 = NormProb(x6_mean[i], x6_var[i], x6)\n",
        "    p7 = NormProb(x7_mean[i], x7_var[i], x7)\n",
        "    Posterior.append(Prior[i] * p1 *p2 * p3 * p4 * p5 * p6 *p7)\n",
        "  return np.argmax(Posterior)\n",
        "\n",
        "def Validation(DATA_WIDTH, DATA_HEIGHT, Prior, x1_var, x2_var, x3_var, x4_var, x5_var, x6_var, x7_var, x1_mean, x2_mean, x3_mean, x4_mean, x5_mean, x6_mean, x7_mean):\n",
        "  Label_pred = []\n",
        "  for Test in ALL_VALIDATION_IMAGES:\n",
        "    label = Classification(Test, DATA_WIDTH, DATA_HEIGHT, Prior, x1_var, x2_var, x3_var, x4_var, x5_var, x6_var, x7_var, x1_mean, x2_mean, x3_mean, x4_mean, x5_mean, x6_mean, x7_mean)\n",
        "    Label_pred.append(label)\n",
        "  return Label_pred"
      ],
      "metadata": {
        "id": "Har0z05ac9fo",
        "cellView": "form"
      },
      "execution_count": 6,
      "outputs": []
    },
    {
      "cell_type": "code",
      "source": [
        "#@title Loading all data and Printing a digit example \n",
        "ALL_TRAINING_IMAGES, ALL_TRAINING_LABELS, ALL_VALIDATION_IMAGES, ALL_VALIDATION_LABELS = _load_all_data()\n",
        "example_number = random.randint(0, NUMBER_OF_TRAINING_EXAMPLES)\n",
        "print(\"Printing digit example #\" + str(example_number + 1) + \" with label: \" \\\n",
        "        + str(ALL_TRAINING_LABELS[example_number]))\n",
        "_print_digit_image(ALL_TRAINING_IMAGES[example_number])"
      ],
      "metadata": {
        "colab": {
          "base_uri": "https://localhost:8080/"
        },
        "cellView": "form",
        "id": "RB9qt4IaeTqg",
        "outputId": "0e85d656-7d49-4854-dd87-159d5acc8f89"
      },
      "execution_count": 8,
      "outputs": [
        {
          "output_type": "stream",
          "name": "stdout",
          "text": [
            "Printing digit example #4506 with label: 0\n",
            "                            \n",
            "                            \n",
            "                            \n",
            "                            \n",
            "                            \n",
            "               +++++++      \n",
            "              # #####+      \n",
            "          ++##########      \n",
            "         +# ###########++   \n",
            "        +#####++++++ ###    \n",
            "       +####++       +###   \n",
            "      +####+          +##   \n",
            "     +####+           +##   \n",
            "     +###+            ###   \n",
            "     ####+           +###   \n",
            "     ####            +###   \n",
            "     ###+           +###+   \n",
            "     ###+          +####    \n",
            "     +##+         ++## +    \n",
            "     +###++     ++####+     \n",
            "     +#####+++++#####+      \n",
            "      +##############+      \n",
            "       +######### #         \n",
            "        +++#######+         \n",
            "                            \n",
            "                            \n",
            "                            \n",
            "                            \n"
          ]
        }
      ]
    },
    {
      "cell_type": "code",
      "source": [
        "#@title Extracting the Features and Calculation of Prior and Lokelihood Probabilities (on Train Data) \n",
        "Hight, Width, Sharp_num_upper, Sharp_num_below, Plus_num_upper, Plus_num_below, Row_limit = [], [], [], [], [], [], []\n",
        "ALL_TRAINING_IMAGES, ALL_TRAINING_LABELS, ALL_VALIDATION_IMAGES, ALL_VALIDATION_LABELS = _load_all_data()\n",
        "for train in ALL_TRAINING_IMAGES:\n",
        "  a, b, c, d, e, f, g = Feature_Extraction(train, DATA_WIDTH, DATA_HEIGHT)\n",
        "  Hight.append(a); Width.append(b)\n",
        "  Sharp_num_upper.append(c); Sharp_num_below.append(d)\n",
        "  Plus_num_upper.append(e); Plus_num_below.append(f)\n",
        "  Row_limit.append(g)\n",
        "Hight = np.array(Hight); Width = np.array(Width)\n",
        "Sharp_num_upper = np.array(Sharp_num_upper); Sharp_num_below = np.array(Sharp_num_upper)\n",
        "Plus_num_upper = np.array(Plus_num_upper); Plus_num_below = np.array(Plus_num_below)\n",
        "Row_limit = np.array(Row_limit)"
      ],
      "metadata": {
        "id": "j44DH9mBL6ne",
        "cellView": "form"
      },
      "execution_count": 9,
      "outputs": []
    },
    {
      "cell_type": "code",
      "source": [
        "#@title Extracting the Features and Calculation of Prior and Lokelihood Probabilities (on Train Data) \n",
        "ALL_TRAINING_IMAGES, ALL_TRAINING_LABELS, ALL_VALIDATION_IMAGES, ALL_VALIDATION_LABELS = _load_all_data()\n",
        "Prior, (x1_var, x2_var, x3_var, x4_var, x5_var, x6_var, x7_var), (x1_mean, x2_mean, x3_mean, x4_mean, x5_mean, x6_mean, x7_mean) = Training(ALL_TRAINING_IMAGES, ALL_TRAINING_LABELS, DATA_WIDTH, DATA_HEIGHT)"
      ],
      "metadata": {
        "id": "2x8EsiaG-0TJ",
        "cellView": "form"
      },
      "execution_count": 10,
      "outputs": []
    },
    {
      "cell_type": "code",
      "source": [
        "#@title Prediction the Validation Labels using Naive Bayes Classifier\n",
        "_, _, ALL_VALIDATION_IMAGES, ALL_VALIDATION_LABELS = _load_all_data()\n",
        "Label_pred = Validation(DATA_WIDTH, DATA_HEIGHT, Prior, x1_var, x2_var, x3_var, x4_var, x5_var, x6_var, x7_var, x1_mean, x2_mean, x3_mean, x4_mean, x5_mean, x6_mean, x7_mean)\n",
        "Accuracy = sum(np.array(Label_pred) == np.array(ALL_VALIDATION_LABELS)) / len(ALL_VALIDATION_LABELS)\n",
        "print(f'Naive-Bayes Classifier:\\n\\tAccuracy = {Accuracy*100}%\\n')\n",
        "ConfusionMatrixDisplay.from_predictions(ALL_VALIDATION_LABELS, Label_pred)\n",
        "plt.title('Confusion Matrix on Validation Images')\n"
      ],
      "metadata": {
        "colab": {
          "base_uri": "https://localhost:8080/",
          "height": 364
        },
        "id": "JQKUelsMsIsF",
        "outputId": "98a171b1-e334-44b8-effd-84c144432581",
        "cellView": "form"
      },
      "execution_count": 18,
      "outputs": [
        {
          "output_type": "stream",
          "name": "stdout",
          "text": [
            "Naive-Bayes Classifier:\n",
            "\tAccuracy = 36.199999999999996%\n",
            "\n"
          ]
        },
        {
          "output_type": "execute_result",
          "data": {
            "text/plain": [
              "Text(0.5, 1.0, 'Confusion Matrix on Validation Images')"
            ]
          },
          "metadata": {},
          "execution_count": 18
        },
        {
          "output_type": "display_data",
          "data": {
            "text/plain": [
              "<Figure size 432x288 with 2 Axes>"
            ],
            "image/png": "[encoded data removed]"
          },
          "metadata": {
            "needs_background": "light"
          }
        }
      ]
    }
  ]
}